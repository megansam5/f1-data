{
 "cells": [
  {
   "cell_type": "code",
   "execution_count": 1,
   "id": "4ae9fe00",
   "metadata": {},
   "outputs": [],
   "source": [
    "import fastf1\n",
    "from fastf1.ergast import Ergast"
   ]
  },
  {
   "cell_type": "code",
   "execution_count": 2,
   "id": "2bba13cb",
   "metadata": {},
   "outputs": [],
   "source": [
    "def get_drivers_standings():\n",
    "    ergast = Ergast()\n",
    "    standings = ergast.get_driver_standings(season=2023)\n",
    "    return standings.content[0]"
   ]
  },
  {
   "cell_type": "code",
   "execution_count": 3,
   "id": "4e94a60d",
   "metadata": {},
   "outputs": [],
   "source": [
    "def calculate_max_points_for_remaining_season():\n",
    "    POINTS_FOR_SPRINT = 8 + 25 + 1  # Winning the sprint, race and fastest lap\n",
    "    POINTS_FOR_CONVENTIONAL = 25 + 1  # Winning the race and fastest lap\n",
    "\n",
    "    events = fastf1.events.get_events_remaining(force_ergast=True)\n",
    "    # Count how many sprints and conventional races are left\n",
    "    sprint_events = len(events.loc[events[\"EventFormat\"] == \"sprint\"])\n",
    "    conventional_events = len(events.loc[events[\"EventFormat\"] == \"conventional\"])\n",
    "\n",
    "    # Calculate points for each\n",
    "    sprint_points = sprint_events * POINTS_FOR_SPRINT\n",
    "    conventional_points = conventional_events * POINTS_FOR_CONVENTIONAL\n",
    "\n",
    "    return sprint_points + conventional_points"
   ]
  },
  {
   "cell_type": "code",
   "execution_count": 4,
   "id": "ce887661",
   "metadata": {},
   "outputs": [],
   "source": [
    "def calculate_who_can_win(driver_standings, max_points):\n",
    "    LEADER_POINTS = int(driver_standings.loc[0]['points'])\n",
    "\n",
    "    for i, _ in enumerate(driver_standings.iterrows()):\n",
    "        driver = driver_standings.loc[i]\n",
    "        driver_max_points = int(driver[\"points\"]) + max_points\n",
    "        can_win = 'No' if driver_max_points < LEADER_POINTS else 'Yes'\n",
    "\n",
    "        print(f\"{driver['position']}: {driver['givenName'] + ' ' + driver['familyName']}, \"\n",
    "              f\"Current points: {driver['points']}, \"\n",
    "              f\"Theoretical max points: {driver_max_points}, \"\n",
    "              f\"Can win: {can_win}\")"
   ]
  },
  {
   "cell_type": "code",
   "execution_count": 5,
   "id": "a7d5feb6",
   "metadata": {},
   "outputs": [
    {
     "name": "stderr",
     "output_type": "stream",
     "text": [
      "req         WARNING \t\n",
      "\n",
      "DEFAULT CACHE ENABLED!\n",
      "\tCache directory: C:\\Users\\megan\\AppData\\Local\\Temp\\fastf1.\n",
      "\tSize: 24.0 KB\n"
     ]
    },
    {
     "name": "stdout",
     "output_type": "stream",
     "text": [
      "1: Max Verstappen, Current points: 314.0, Theoretical max points: 496, Can win: Yes\n",
      "2: Sergio Pérez, Current points: 189.0, Theoretical max points: 371, Can win: Yes\n",
      "3: Fernando Alonso, Current points: 149.0, Theoretical max points: 331, Can win: Yes\n",
      "4: Lewis Hamilton, Current points: 148.0, Theoretical max points: 330, Can win: Yes\n",
      "5: Charles Leclerc, Current points: 99.0, Theoretical max points: 281, Can win: No\n",
      "6: George Russell, Current points: 99.0, Theoretical max points: 281, Can win: No\n",
      "7: Carlos Sainz, Current points: 92.0, Theoretical max points: 274, Can win: No\n",
      "8: Lando Norris, Current points: 69.0, Theoretical max points: 251, Can win: No\n",
      "9: Lance Stroll, Current points: 47.0, Theoretical max points: 229, Can win: No\n",
      "10: Esteban Ocon, Current points: 35.0, Theoretical max points: 217, Can win: No\n",
      "11: Oscar Piastri, Current points: 34.0, Theoretical max points: 216, Can win: No\n",
      "12: Pierre Gasly, Current points: 22.0, Theoretical max points: 204, Can win: No\n",
      "13: Alexander Albon, Current points: 11.0, Theoretical max points: 193, Can win: No\n",
      "14: Nico Hülkenberg, Current points: 9.0, Theoretical max points: 191, Can win: No\n",
      "15: Valtteri Bottas, Current points: 5.0, Theoretical max points: 187, Can win: No\n",
      "16: Guanyu Zhou, Current points: 4.0, Theoretical max points: 186, Can win: No\n",
      "17: Yuki Tsunoda, Current points: 3.0, Theoretical max points: 185, Can win: No\n",
      "18: Kevin Magnussen, Current points: 2.0, Theoretical max points: 184, Can win: No\n",
      "19: Logan Sargeant, Current points: 0.0, Theoretical max points: 182, Can win: No\n",
      "20: Nyck de Vries, Current points: 0.0, Theoretical max points: 182, Can win: No\n",
      "21: Daniel Ricciardo, Current points: 0.0, Theoretical max points: 182, Can win: No\n"
     ]
    },
    {
     "name": "stderr",
     "output_type": "stream",
     "text": [
      "C:\\Users\\megan\\anaconda3\\lib\\site-packages\\fastf1\\events.py:458: UserWarning: Option ``force_ergast`` has been deprecated, use``backend='ergast'`` instead\n",
      "  warnings.warn(\"Option ``force_ergast`` has been deprecated, use\"\n"
     ]
    }
   ],
   "source": [
    "# Get the current drivers standings\n",
    "driver_standings = get_drivers_standings()\n",
    "\n",
    "# Get the maximum amount of points\n",
    "points = calculate_max_points_for_remaining_season()\n",
    "\n",
    "# Print which drivers can still win\n",
    "calculate_who_can_win(driver_standings, points)"
   ]
  },
  {
   "cell_type": "code",
   "execution_count": null,
   "id": "43b92f09",
   "metadata": {},
   "outputs": [],
   "source": []
  }
 ],
 "metadata": {
  "kernelspec": {
   "display_name": "Python 3 (ipykernel)",
   "language": "python",
   "name": "python3"
  },
  "language_info": {
   "codemirror_mode": {
    "name": "ipython",
    "version": 3
   },
   "file_extension": ".py",
   "mimetype": "text/x-python",
   "name": "python",
   "nbconvert_exporter": "python",
   "pygments_lexer": "ipython3",
   "version": "3.9.12"
  }
 },
 "nbformat": 4,
 "nbformat_minor": 5
}
